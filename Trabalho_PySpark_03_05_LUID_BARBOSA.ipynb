{
  "nbformat": 4,
  "nbformat_minor": 0,
  "metadata": {
    "colab": {
      "provenance": [],
      "include_colab_link": true
    },
    "kernelspec": {
      "name": "python3",
      "display_name": "Python 3"
    },
    "language_info": {
      "name": "python"
    }
  },
  "cells": [
    {
      "cell_type": "markdown",
      "metadata": {
        "id": "view-in-github",
        "colab_type": "text"
      },
      "source": [
        "<a href=\"https://colab.research.google.com/github/Luid1991/Luid1991/blob/main/Trabalho_PySpark_03_05_LUID_BARBOSA.ipynb\" target=\"_parent\"><img src=\"https://colab.research.google.com/assets/colab-badge.svg\" alt=\"Open In Colab\"/></a>"
      ]
    },
    {
      "cell_type": "markdown",
      "source": [
        "# Configurações iniciais"
      ],
      "metadata": {
        "id": "W2pYE-d1b35-"
      }
    },
    {
      "cell_type": "markdown",
      "source": [
        "## Instalação dos pacotes"
      ],
      "metadata": {
        "id": "X1E4LjImb-C5"
      }
    },
    {
      "cell_type": "code",
      "execution_count": null,
      "metadata": {
        "id": "7mq9hIMfTOTU",
        "colab": {
          "base_uri": "https://localhost:8080/"
        },
        "outputId": "4a138f6c-813b-4bc5-98b0-c6083c71d80b"
      },
      "outputs": [
        {
          "output_type": "stream",
          "name": "stdout",
          "text": [
            "^C\n"
          ]
        }
      ],
      "source": [
        "!apt-get install openjdk-8-jdk-headless -qq > /dev/null\n",
        "!wget -q http://archive.apache.org/dist/spark/spark-3.1.1/spark-3.1.1-bin-hadoop3.2.tgz\n",
        "!tar xf spark-3.1.1-bin-hadoop3.2.tgz\n",
        "!pip install -q findspark"
      ]
    },
    {
      "cell_type": "code",
      "source": [
        "import os\n",
        "os.environ[\"JAVA_HOME\"] = \"/usr/lib/jvm/java-8-openjdk-amd64\"\n",
        "os.environ[\"SPARK_HOME\"] = \"/content/spark-3.1.1-bin-hadoop3.2\""
      ],
      "metadata": {
        "id": "YXGw6tIQd2EU"
      },
      "execution_count": null,
      "outputs": []
    },
    {
      "cell_type": "code",
      "source": [
        "import findspark\n",
        "findspark.init()\n",
        "from pyspark.sql import SparkSession\n",
        "spark = SparkSession.builder.master(\"local[*]\").getOrCreate()\n",
        "from pyspark.sql.functions import regexp_replace\n",
        "spark.conf.set(\"spark.sql.repl.eagerEval.enabled\", True) # Para deixar a visualização das tabelas mais amigável\n",
        "spark"
      ],
      "metadata": {
        "colab": {
          "base_uri": "https://localhost:8080/",
          "height": 222
        },
        "id": "E3PnYIK0d3tw",
        "outputId": "403a4035-be4e-40ea-8239-da85316da479"
      },
      "execution_count": null,
      "outputs": [
        {
          "output_type": "execute_result",
          "data": {
            "text/plain": [
              "<pyspark.sql.session.SparkSession at 0x7dae7c121180>"
            ],
            "text/html": [
              "\n",
              "            <div>\n",
              "                <p><b>SparkSession - in-memory</b></p>\n",
              "                \n",
              "        <div>\n",
              "            <p><b>SparkContext</b></p>\n",
              "\n",
              "            <p><a href=\"http://31dacd12d19a:4040\">Spark UI</a></p>\n",
              "\n",
              "            <dl>\n",
              "              <dt>Version</dt>\n",
              "                <dd><code>v3.1.1</code></dd>\n",
              "              <dt>Master</dt>\n",
              "                <dd><code>local[*]</code></dd>\n",
              "              <dt>AppName</dt>\n",
              "                <dd><code>pyspark-shell</code></dd>\n",
              "            </dl>\n",
              "        </div>\n",
              "        \n",
              "            </div>\n",
              "        "
            ]
          },
          "metadata": {},
          "execution_count": 67
        }
      ]
    },
    {
      "cell_type": "code",
      "source": [
        "df = spark.read.csv('/content/Estatística Descritiva - Organização Gráfica.csv',header=True)"
      ],
      "metadata": {
        "id": "vQojzpCtnuPF"
      },
      "execution_count": null,
      "outputs": []
    },
    {
      "cell_type": "code",
      "source": [
        "df.show()"
      ],
      "metadata": {
        "colab": {
          "base_uri": "https://localhost:8080/"
        },
        "id": "GlNrgeQZnzZZ",
        "outputId": "8a881294-34ee-406b-fe47-a48f2bb0f024"
      },
      "execution_count": null,
      "outputs": [
        {
          "output_type": "stream",
          "name": "stdout",
          "text": [
            "+---------+--------+---------+------+------+-----+------------+-----------+------------+------------+-----+\n",
            "|Matrícula|    Nome|   Cidade|Estado|  País|Idade|Departamento|      Cargo|Salário (R$)|Escolaridade|Nota |\n",
            "+---------+--------+---------+------+------+-----+------------+-----------+------------+------------+-----+\n",
            "|        1|   Lucas|  Atibaia|    SP|Brasil|   35|     Compras|    Gerente|       25000|    Superior|    8|\n",
            "|        2|     Ana|São Paulo|    SP|Brasil|   29|      Vendas|Coordenador|       12000|    Superior|    6|\n",
            "|        3|   Luiza|   Santos|    SP|Brasil|   38|    Finanças|    Gerente|       28000|         MBA|    9|\n",
            "|        4|Fernando|  Atibaia|    SP|Brasil|   36|   Marketing|    Diretor|       40000|    Mestrado|    7|\n",
            "|        5|  Sandra|  Atibaia|    SP|Brasil|   28|    Produção|   Analista|       23000|    Superior|    5|\n",
            "|        6| Douglas| Bragança|    SP|Brasil|   29|    Finanças|   Analista|       11000|    Superior|    9|\n",
            "|        7| Eduardo|  Extrema|    MG|Brasil|   30|   Marketing|    Gerente|       12000|         MBA|    4|\n",
            "|        8|   Ester|  Itapeva|    MG|Brasil|   29|     Compras|   Analista|       10000|    Superior|    2|\n",
            "|        9|   Pedro|  Extrema|    MG|Brasil|   30|   Marketing|   Analista|       13000|    Superior|    1|\n",
            "|       10|   Maria|  Extrema|    MG|Brasil|   40|    Produção|   Analista|       12000|         MBA|    7|\n",
            "+---------+--------+---------+------+------+-----+------------+-----------+------------+------------+-----+\n",
            "\n"
          ]
        }
      ]
    },
    {
      "cell_type": "code",
      "source": [
        "'''\n",
        "Agora você vai aplicar seus conhecimentos de Pyspark para para as seguintes\n",
        "transformações no DF:\n",
        "\n",
        "1 - Renomear todas as colunas de forma que se mantenha os nomes, mas apenas com\n",
        "letras minúsculas sem espaços, e/ou caracteres especiais\n",
        "\n",
        "2 - Fazer livremente no mínimo 10 filtros que tragam recortes a partir de colunas\n",
        "diferentes\n",
        "\n",
        "3 - Considerando que todos os funcionários tem um desconto de previdência complementar\n",
        "de 10 % do salário Bruto crie e calcule os valores de uma nova coluna chamada\n",
        "previdencia.\n",
        "\n",
        "4 - Considerando que todos os funcionários nesse mês epecífico terão uma bonificacçao\n",
        "de 20% sobre o salário bruto, crie e calcule os valores de uma nova coluna chamada\n",
        "bonus\n",
        "\n",
        "5 - Crie uma nova coluna com todos os nomes dos funcionários em letras maiúsculas\n",
        "\n",
        "6 - Crie uma nova coluna com os nomes dos funcionários todos em letras minúsculas\n",
        "\n",
        "7 - Crie um novo dataframe  chamado quant apenas com as colunas idade,\n",
        "salário e notas\n",
        "\n",
        "8 - calcule as principais medidas descritivas do df quant (describe)\n",
        "\n",
        "9 - Ordene o df original por notas de forma crescente\n",
        "\n",
        "10 - faça as contagens de frequências, usando groupby para as seguintes colunas:\n",
        "a) Cargo\n",
        "b) Cidade\n",
        "c) Estado\n",
        "d) Escolaridade\n",
        "e) Departamento\n",
        "'''"
      ],
      "metadata": {
        "colab": {
          "base_uri": "https://localhost:8080/",
          "height": 91
        },
        "id": "0o0RKiYNzb0v",
        "outputId": "54729484-fe88-4c39-e44d-c2ac0574156e"
      },
      "execution_count": null,
      "outputs": [
        {
          "output_type": "execute_result",
          "data": {
            "text/plain": [
              "'\\nAgora você vai aplicar seus conhecimentos de Pyspark para para as seguintes\\ntransformações no DF:\\n\\n1 - Renomear todas as colunas de forma que se mantenha os nomes, mas apenas com\\nletras minúsculas sem espaços, e/ou caracteres especiais\\n\\n2 - Fazer livremente no mínimo 10 filtros que tragam recortes a partir de colunas\\ndiferentes\\n\\n3 - Considerando que todos os funcionários tem um desconto de previdência complementar\\nde 10 % do salário Bruto crie e calcule os valores de uma nova coluna chamada\\nprevidencia.\\n\\n4 - Considerando que todos os funcionários nesse mês epecífico terão uma bonificacçao\\nde 20% sobre o salário bruto, crie e calcule os valores de uma nova coluna chamada\\nbonus\\n\\n5 - Crie uma nova coluna com todos os nomes dos funcionários em letras maiúsculas\\n\\n6 - Crie uma nova coluna com os nomes dos funcionários todos em letras minúsculas\\n\\n7 - Crie um novo dataframe  chamado quant apenas com as colunas idade,\\nsalário e notas\\n\\n8 - calcule as principais medidas descritivas do df quant (describe)\\n\\n9 - Ordene o df original por notas de forma crescente\\n\\n10 - faça as contagens de frequências, usando groupby para as seguintes colunas:\\na) Cargo\\nb) Cidade\\nc) Estado\\nd) Escolaridade\\ne) Departamento\\n'"
            ],
            "application/vnd.google.colaboratory.intrinsic+json": {
              "type": "string"
            }
          },
          "metadata": {},
          "execution_count": 70
        }
      ]
    },
    {
      "cell_type": "code",
      "source": [
        "'''1 - Renomear todas as colunas de forma que se mantenha os nomes, mas apenas com\n",
        "letras MAIUSCULAS sem espaços, e/ou caracteres especiais'''\n",
        "\n",
        "df = df.withColumnRenamed('Matrícula','MATRÍCULA')\n",
        "df = df.withColumnRenamed('Nome','NOME')\n",
        "df = df.withColumnRenamed('Cidade','CIDADE')\n",
        "df = df.withColumnRenamed('Estado','ESTADO')\n",
        "df = df.withColumnRenamed('País','PAÍS')\n",
        "df = df.withColumnRenamed('Idade','IDADE')\n",
        "df = df.withColumnRenamed('Departamento','DEPARTAMENTO')\n",
        "df = df.withColumnRenamed('Cargo','CARGO')\n",
        "df = df.withColumnRenamed('Salário (R$)','SALÁRIO(RS)')\n",
        "df = df.withColumnRenamed('Escolaridade','ESCOLARIDADE')\n",
        "df = df.withColumnRenamed('Nota ','NOTA')\n",
        "df.show()\n",
        "\n",
        "\n",
        "'''df = df.toDF(*('MATRÍCULA','NOME','CIDADE','ESTADO','PAÍS','IDADE','DEPARTAMENTO','CARGO','SALÁRIO','ESCOLARIDADE','NOTA')) JEITO ALTERNATIVO\n",
        "df.show()'''"
      ],
      "metadata": {
        "colab": {
          "base_uri": "https://localhost:8080/",
          "height": 309
        },
        "id": "eZnZD1VAzcgu",
        "outputId": "1457b537-f472-4fa5-8d65-f25ab49ecaee"
      },
      "execution_count": null,
      "outputs": [
        {
          "output_type": "stream",
          "name": "stdout",
          "text": [
            "+---------+--------+---------+------+------+-----+------------+-----------+-----------+------------+----+-----------+------+----------+----------+\n",
            "|MATRÍCULA|    NOME|   CIDADE|ESTADO|  PAÍS|IDADE|DEPARTAMENTO|      CARGO|SALÁRIO(RS)|ESCOLARIDADE|NOTA|PREVIDENCIA| BONUS|MAIUSCULAS|MINUSCULAS|\n",
            "+---------+--------+---------+------+------+-----+------------+-----------+-----------+------------+----+-----------+------+----------+----------+\n",
            "|        1|   Lucas|  Atibaia|    SP|Brasil|   35|     Compras|    Gerente|      25000|    Superior|   8|     2500.0|5000.0|     LUCAS|     lucas|\n",
            "|        2|     Ana|São Paulo|    SP|Brasil|   29|      Vendas|Coordenador|      12000|    Superior|   6|     1200.0|2400.0|       ANA|       ana|\n",
            "|        3|   Luiza|   Santos|    SP|Brasil|   38|    Finanças|    Gerente|      28000|         MBA|   9|     2800.0|5600.0|     LUIZA|     luiza|\n",
            "|        4|Fernando|  Atibaia|    SP|Brasil|   36|   Marketing|    Diretor|      40000|    Mestrado|   7|     4000.0|8000.0|  FERNANDO|  fernando|\n",
            "|        5|  Sandra|  Atibaia|    SP|Brasil|   28|    Produção|   Analista|      23000|    Superior|   5|     2300.0|4600.0|    SANDRA|    sandra|\n",
            "|        6| Douglas| Bragança|    SP|Brasil|   29|    Finanças|   Analista|      11000|    Superior|   9|     1100.0|2200.0|   DOUGLAS|   douglas|\n",
            "|        7| Eduardo|  Extrema|    MG|Brasil|   30|   Marketing|    Gerente|      12000|         MBA|   4|     1200.0|2400.0|   EDUARDO|   eduardo|\n",
            "|        8|   Ester|  Itapeva|    MG|Brasil|   29|     Compras|   Analista|      10000|    Superior|   2|     1000.0|2000.0|     ESTER|     ester|\n",
            "|        9|   Pedro|  Extrema|    MG|Brasil|   30|   Marketing|   Analista|      13000|    Superior|   1|     1300.0|2600.0|     PEDRO|     pedro|\n",
            "|       10|   Maria|  Extrema|    MG|Brasil|   40|    Produção|   Analista|      12000|         MBA|   7|     1200.0|2400.0|     MARIA|     maria|\n",
            "+---------+--------+---------+------+------+-----+------------+-----------+-----------+------------+----+-----------+------+----------+----------+\n",
            "\n"
          ]
        },
        {
          "output_type": "execute_result",
          "data": {
            "text/plain": [
              "\"df = df.toDF(*('MATRÍCULA','NOME','CIDADE','ESTADO','PAÍS','IDADE','DEPARTAMENTO','CARGO','SALÁRIO','ESCOLARIDADE','NOTA')) JEITO ALTERNATIVO\\ndf.show()\""
            ],
            "application/vnd.google.colaboratory.intrinsic+json": {
              "type": "string"
            }
          },
          "metadata": {},
          "execution_count": 92
        }
      ]
    },
    {
      "cell_type": "code",
      "source": [
        "'''2 - Fazer livremente no mínimo 10 filtros que tragam recortes a partir de colunas\n",
        "diferentes '''\n",
        "\n",
        "filtro01 = df.select('NOME','ESTADO')\n",
        "filtro01.show()\n",
        "\n",
        "filtro02 = df.select('NOME','CIDADE')\n",
        "filtro02.show()\n",
        "\n",
        "filtro03 = df.select('NOME','PAÍS')\n",
        "filtro03.show()\n",
        "\n",
        "filtro04 = df.select('NOME','CIDADE','ESTADO','PAÍS')\n",
        "filtro04.show()\n",
        "\n",
        "filtro05 = df.select('NOME','IDADE','DEPARTAMENTO')\n",
        "filtro05.show()\n",
        "\n",
        "filtro06 = df.select('NOME','DEPARTAMENTO','CARGO')\n",
        "filtro06.show()\n",
        "\n",
        "filtro07 = df.select('NOME','DEPARTAMENTO','CARGO','SALÁRIO(RS)')\n",
        "filtro07.show()\n",
        "\n",
        "filtro08 = df.select('NOME','DEPARTAMENTO','CARGO','ESCOLARIDADE')\n",
        "filtro08.show()\n",
        "\n",
        "filtro09 = df.select('NOME','DEPARTAMENTO','ESCOLARIDADE','NOTA')\n",
        "filtro09.show()\n",
        "\n",
        "filtro10 = df.select('NOME','SALÁRIO(RS)','ESCOLARIDADE','NOTA')\n",
        "filtro10.show()"
      ],
      "metadata": {
        "colab": {
          "base_uri": "https://localhost:8080/"
        },
        "id": "2V215U9H2Hnr",
        "outputId": "162d6d5d-7fd2-4367-e558-d2bcedc45f22"
      },
      "execution_count": null,
      "outputs": [
        {
          "output_type": "stream",
          "name": "stdout",
          "text": [
            "+--------+------+\n",
            "|    NOME|ESTADO|\n",
            "+--------+------+\n",
            "|   Lucas|    SP|\n",
            "|     Ana|    SP|\n",
            "|   Luiza|    SP|\n",
            "|Fernando|    SP|\n",
            "|  Sandra|    SP|\n",
            "| Douglas|    SP|\n",
            "| Eduardo|    MG|\n",
            "|   Ester|    MG|\n",
            "|   Pedro|    MG|\n",
            "|   Maria|    MG|\n",
            "+--------+------+\n",
            "\n",
            "+--------+---------+\n",
            "|    NOME|   CIDADE|\n",
            "+--------+---------+\n",
            "|   Lucas|  Atibaia|\n",
            "|     Ana|São Paulo|\n",
            "|   Luiza|   Santos|\n",
            "|Fernando|  Atibaia|\n",
            "|  Sandra|  Atibaia|\n",
            "| Douglas| Bragança|\n",
            "| Eduardo|  Extrema|\n",
            "|   Ester|  Itapeva|\n",
            "|   Pedro|  Extrema|\n",
            "|   Maria|  Extrema|\n",
            "+--------+---------+\n",
            "\n",
            "+--------+------+\n",
            "|    NOME|  PAÍS|\n",
            "+--------+------+\n",
            "|   Lucas|Brasil|\n",
            "|     Ana|Brasil|\n",
            "|   Luiza|Brasil|\n",
            "|Fernando|Brasil|\n",
            "|  Sandra|Brasil|\n",
            "| Douglas|Brasil|\n",
            "| Eduardo|Brasil|\n",
            "|   Ester|Brasil|\n",
            "|   Pedro|Brasil|\n",
            "|   Maria|Brasil|\n",
            "+--------+------+\n",
            "\n",
            "+--------+---------+------+------+\n",
            "|    NOME|   CIDADE|ESTADO|  PAÍS|\n",
            "+--------+---------+------+------+\n",
            "|   Lucas|  Atibaia|    SP|Brasil|\n",
            "|     Ana|São Paulo|    SP|Brasil|\n",
            "|   Luiza|   Santos|    SP|Brasil|\n",
            "|Fernando|  Atibaia|    SP|Brasil|\n",
            "|  Sandra|  Atibaia|    SP|Brasil|\n",
            "| Douglas| Bragança|    SP|Brasil|\n",
            "| Eduardo|  Extrema|    MG|Brasil|\n",
            "|   Ester|  Itapeva|    MG|Brasil|\n",
            "|   Pedro|  Extrema|    MG|Brasil|\n",
            "|   Maria|  Extrema|    MG|Brasil|\n",
            "+--------+---------+------+------+\n",
            "\n",
            "+--------+-----+------------+\n",
            "|    NOME|IDADE|DEPARTAMENTO|\n",
            "+--------+-----+------------+\n",
            "|   Lucas|   35|     Compras|\n",
            "|     Ana|   29|      Vendas|\n",
            "|   Luiza|   38|    Finanças|\n",
            "|Fernando|   36|   Marketing|\n",
            "|  Sandra|   28|    Produção|\n",
            "| Douglas|   29|    Finanças|\n",
            "| Eduardo|   30|   Marketing|\n",
            "|   Ester|   29|     Compras|\n",
            "|   Pedro|   30|   Marketing|\n",
            "|   Maria|   40|    Produção|\n",
            "+--------+-----+------------+\n",
            "\n",
            "+--------+------------+-----------+\n",
            "|    NOME|DEPARTAMENTO|      CARGO|\n",
            "+--------+------------+-----------+\n",
            "|   Lucas|     Compras|    Gerente|\n",
            "|     Ana|      Vendas|Coordenador|\n",
            "|   Luiza|    Finanças|    Gerente|\n",
            "|Fernando|   Marketing|    Diretor|\n",
            "|  Sandra|    Produção|   Analista|\n",
            "| Douglas|    Finanças|   Analista|\n",
            "| Eduardo|   Marketing|    Gerente|\n",
            "|   Ester|     Compras|   Analista|\n",
            "|   Pedro|   Marketing|   Analista|\n",
            "|   Maria|    Produção|   Analista|\n",
            "+--------+------------+-----------+\n",
            "\n",
            "+--------+------------+-----------+-----------+\n",
            "|    NOME|DEPARTAMENTO|      CARGO|SALÁRIO(RS)|\n",
            "+--------+------------+-----------+-----------+\n",
            "|   Lucas|     Compras|    Gerente|      25000|\n",
            "|     Ana|      Vendas|Coordenador|      12000|\n",
            "|   Luiza|    Finanças|    Gerente|      28000|\n",
            "|Fernando|   Marketing|    Diretor|      40000|\n",
            "|  Sandra|    Produção|   Analista|      23000|\n",
            "| Douglas|    Finanças|   Analista|      11000|\n",
            "| Eduardo|   Marketing|    Gerente|      12000|\n",
            "|   Ester|     Compras|   Analista|      10000|\n",
            "|   Pedro|   Marketing|   Analista|      13000|\n",
            "|   Maria|    Produção|   Analista|      12000|\n",
            "+--------+------------+-----------+-----------+\n",
            "\n",
            "+--------+------------+-----------+------------+\n",
            "|    NOME|DEPARTAMENTO|      CARGO|ESCOLARIDADE|\n",
            "+--------+------------+-----------+------------+\n",
            "|   Lucas|     Compras|    Gerente|    Superior|\n",
            "|     Ana|      Vendas|Coordenador|    Superior|\n",
            "|   Luiza|    Finanças|    Gerente|         MBA|\n",
            "|Fernando|   Marketing|    Diretor|    Mestrado|\n",
            "|  Sandra|    Produção|   Analista|    Superior|\n",
            "| Douglas|    Finanças|   Analista|    Superior|\n",
            "| Eduardo|   Marketing|    Gerente|         MBA|\n",
            "|   Ester|     Compras|   Analista|    Superior|\n",
            "|   Pedro|   Marketing|   Analista|    Superior|\n",
            "|   Maria|    Produção|   Analista|         MBA|\n",
            "+--------+------------+-----------+------------+\n",
            "\n",
            "+--------+------------+------------+----+\n",
            "|    NOME|DEPARTAMENTO|ESCOLARIDADE|NOTA|\n",
            "+--------+------------+------------+----+\n",
            "|   Lucas|     Compras|    Superior|   8|\n",
            "|     Ana|      Vendas|    Superior|   6|\n",
            "|   Luiza|    Finanças|         MBA|   9|\n",
            "|Fernando|   Marketing|    Mestrado|   7|\n",
            "|  Sandra|    Produção|    Superior|   5|\n",
            "| Douglas|    Finanças|    Superior|   9|\n",
            "| Eduardo|   Marketing|         MBA|   4|\n",
            "|   Ester|     Compras|    Superior|   2|\n",
            "|   Pedro|   Marketing|    Superior|   1|\n",
            "|   Maria|    Produção|         MBA|   7|\n",
            "+--------+------------+------------+----+\n",
            "\n",
            "+--------+-----------+------------+----+\n",
            "|    NOME|SALÁRIO(RS)|ESCOLARIDADE|NOTA|\n",
            "+--------+-----------+------------+----+\n",
            "|   Lucas|      25000|    Superior|   8|\n",
            "|     Ana|      12000|    Superior|   6|\n",
            "|   Luiza|      28000|         MBA|   9|\n",
            "|Fernando|      40000|    Mestrado|   7|\n",
            "|  Sandra|      23000|    Superior|   5|\n",
            "| Douglas|      11000|    Superior|   9|\n",
            "| Eduardo|      12000|         MBA|   4|\n",
            "|   Ester|      10000|    Superior|   2|\n",
            "|   Pedro|      13000|    Superior|   1|\n",
            "|   Maria|      12000|         MBA|   7|\n",
            "+--------+-----------+------------+----+\n",
            "\n"
          ]
        }
      ]
    },
    {
      "cell_type": "code",
      "source": [
        "'''3 - Considerando que todos os funcionários tem um desconto de previdência complementar\n",
        "de 10 % do salário Bruto crie e calcule os valores de uma nova coluna chamada\n",
        "previdencia.'''\n",
        "\n",
        "df = df.withColumn('PREVIDENCIA',df['SALÁRIO(RS)']*0.1)\n",
        "\n",
        "df.show()"
      ],
      "metadata": {
        "colab": {
          "base_uri": "https://localhost:8080/"
        },
        "id": "EfatWj9r5AI8",
        "outputId": "f47a564a-49c1-4b57-9399-d558b04417ed"
      },
      "execution_count": null,
      "outputs": [
        {
          "output_type": "stream",
          "name": "stdout",
          "text": [
            "+---------+--------+---------+------+------+-----+------------+-----------+-----------+------------+----+-----------+\n",
            "|MATRÍCULA|    NOME|   CIDADE|ESTADO|  PAÍS|IDADE|DEPARTAMENTO|      CARGO|SALÁRIO(RS)|ESCOLARIDADE|NOTA|PREVIDENCIA|\n",
            "+---------+--------+---------+------+------+-----+------------+-----------+-----------+------------+----+-----------+\n",
            "|        1|   Lucas|  Atibaia|    SP|Brasil|   35|     Compras|    Gerente|      25000|    Superior|   8|     2500.0|\n",
            "|        2|     Ana|São Paulo|    SP|Brasil|   29|      Vendas|Coordenador|      12000|    Superior|   6|     1200.0|\n",
            "|        3|   Luiza|   Santos|    SP|Brasil|   38|    Finanças|    Gerente|      28000|         MBA|   9|     2800.0|\n",
            "|        4|Fernando|  Atibaia|    SP|Brasil|   36|   Marketing|    Diretor|      40000|    Mestrado|   7|     4000.0|\n",
            "|        5|  Sandra|  Atibaia|    SP|Brasil|   28|    Produção|   Analista|      23000|    Superior|   5|     2300.0|\n",
            "|        6| Douglas| Bragança|    SP|Brasil|   29|    Finanças|   Analista|      11000|    Superior|   9|     1100.0|\n",
            "|        7| Eduardo|  Extrema|    MG|Brasil|   30|   Marketing|    Gerente|      12000|         MBA|   4|     1200.0|\n",
            "|        8|   Ester|  Itapeva|    MG|Brasil|   29|     Compras|   Analista|      10000|    Superior|   2|     1000.0|\n",
            "|        9|   Pedro|  Extrema|    MG|Brasil|   30|   Marketing|   Analista|      13000|    Superior|   1|     1300.0|\n",
            "|       10|   Maria|  Extrema|    MG|Brasil|   40|    Produção|   Analista|      12000|         MBA|   7|     1200.0|\n",
            "+---------+--------+---------+------+------+-----+------------+-----------+-----------+------------+----+-----------+\n",
            "\n"
          ]
        }
      ]
    },
    {
      "cell_type": "code",
      "source": [
        "'''4 - Considerando que todos os funcionários nesse mês epecífico terão uma bonificacçao\n",
        "de 20% sobre o salário bruto, crie e calcule os valores de uma nova coluna chamada\n",
        "bonus'''\n",
        "\n",
        "df = df.withColumn('BONUS',df['SALÁRIO(RS)']*0.2)\n",
        "\n",
        "df.show()"
      ],
      "metadata": {
        "colab": {
          "base_uri": "https://localhost:8080/"
        },
        "id": "-jhtrIbh6P55",
        "outputId": "1417a1a2-0ee6-4680-b4f1-442199d503e8"
      },
      "execution_count": null,
      "outputs": [
        {
          "output_type": "stream",
          "name": "stdout",
          "text": [
            "+---------+--------+---------+------+------+-----+------------+-----------+-----------+------------+----+-----------+------+\n",
            "|MATRÍCULA|    NOME|   CIDADE|ESTADO|  PAÍS|IDADE|DEPARTAMENTO|      CARGO|SALÁRIO(RS)|ESCOLARIDADE|NOTA|PREVIDENCIA| BONUS|\n",
            "+---------+--------+---------+------+------+-----+------------+-----------+-----------+------------+----+-----------+------+\n",
            "|        1|   Lucas|  Atibaia|    SP|Brasil|   35|     Compras|    Gerente|      25000|    Superior|   8|     2500.0|5000.0|\n",
            "|        2|     Ana|São Paulo|    SP|Brasil|   29|      Vendas|Coordenador|      12000|    Superior|   6|     1200.0|2400.0|\n",
            "|        3|   Luiza|   Santos|    SP|Brasil|   38|    Finanças|    Gerente|      28000|         MBA|   9|     2800.0|5600.0|\n",
            "|        4|Fernando|  Atibaia|    SP|Brasil|   36|   Marketing|    Diretor|      40000|    Mestrado|   7|     4000.0|8000.0|\n",
            "|        5|  Sandra|  Atibaia|    SP|Brasil|   28|    Produção|   Analista|      23000|    Superior|   5|     2300.0|4600.0|\n",
            "|        6| Douglas| Bragança|    SP|Brasil|   29|    Finanças|   Analista|      11000|    Superior|   9|     1100.0|2200.0|\n",
            "|        7| Eduardo|  Extrema|    MG|Brasil|   30|   Marketing|    Gerente|      12000|         MBA|   4|     1200.0|2400.0|\n",
            "|        8|   Ester|  Itapeva|    MG|Brasil|   29|     Compras|   Analista|      10000|    Superior|   2|     1000.0|2000.0|\n",
            "|        9|   Pedro|  Extrema|    MG|Brasil|   30|   Marketing|   Analista|      13000|    Superior|   1|     1300.0|2600.0|\n",
            "|       10|   Maria|  Extrema|    MG|Brasil|   40|    Produção|   Analista|      12000|         MBA|   7|     1200.0|2400.0|\n",
            "+---------+--------+---------+------+------+-----+------------+-----------+-----------+------------+----+-----------+------+\n",
            "\n"
          ]
        }
      ]
    },
    {
      "cell_type": "code",
      "source": [
        "''' 5 - Crie uma nova coluna com todos os nomes dos funcionários em letras maiúsculas '''\n",
        "from pyspark.sql.functions import *\n",
        "df = df.withColumn('MAIUSCULAS',upper(col('NOME')))\n",
        "df.show()"
      ],
      "metadata": {
        "colab": {
          "base_uri": "https://localhost:8080/"
        },
        "id": "lrBu7m4O7nfG",
        "outputId": "fd7f9c68-6935-446c-e124-7f6eea7a5ee5"
      },
      "execution_count": null,
      "outputs": [
        {
          "output_type": "stream",
          "name": "stdout",
          "text": [
            "+---------+--------+---------+------+------+-----+------------+-----------+-----------+------------+----+-----------+------+----------+\n",
            "|MATRÍCULA|    NOME|   CIDADE|ESTADO|  PAÍS|IDADE|DEPARTAMENTO|      CARGO|SALÁRIO(RS)|ESCOLARIDADE|NOTA|PREVIDENCIA| BONUS|MAIUSCULAS|\n",
            "+---------+--------+---------+------+------+-----+------------+-----------+-----------+------------+----+-----------+------+----------+\n",
            "|        1|   Lucas|  Atibaia|    SP|Brasil|   35|     Compras|    Gerente|      25000|    Superior|   8|     2500.0|5000.0|     LUCAS|\n",
            "|        2|     Ana|São Paulo|    SP|Brasil|   29|      Vendas|Coordenador|      12000|    Superior|   6|     1200.0|2400.0|       ANA|\n",
            "|        3|   Luiza|   Santos|    SP|Brasil|   38|    Finanças|    Gerente|      28000|         MBA|   9|     2800.0|5600.0|     LUIZA|\n",
            "|        4|Fernando|  Atibaia|    SP|Brasil|   36|   Marketing|    Diretor|      40000|    Mestrado|   7|     4000.0|8000.0|  FERNANDO|\n",
            "|        5|  Sandra|  Atibaia|    SP|Brasil|   28|    Produção|   Analista|      23000|    Superior|   5|     2300.0|4600.0|    SANDRA|\n",
            "|        6| Douglas| Bragança|    SP|Brasil|   29|    Finanças|   Analista|      11000|    Superior|   9|     1100.0|2200.0|   DOUGLAS|\n",
            "|        7| Eduardo|  Extrema|    MG|Brasil|   30|   Marketing|    Gerente|      12000|         MBA|   4|     1200.0|2400.0|   EDUARDO|\n",
            "|        8|   Ester|  Itapeva|    MG|Brasil|   29|     Compras|   Analista|      10000|    Superior|   2|     1000.0|2000.0|     ESTER|\n",
            "|        9|   Pedro|  Extrema|    MG|Brasil|   30|   Marketing|   Analista|      13000|    Superior|   1|     1300.0|2600.0|     PEDRO|\n",
            "|       10|   Maria|  Extrema|    MG|Brasil|   40|    Produção|   Analista|      12000|         MBA|   7|     1200.0|2400.0|     MARIA|\n",
            "+---------+--------+---------+------+------+-----+------------+-----------+-----------+------------+----+-----------+------+----------+\n",
            "\n"
          ]
        }
      ]
    },
    {
      "cell_type": "code",
      "source": [
        "''' 6 - Crie uma nova coluna com todos os nomes dos funcionários em letras minusculas '''\n",
        "from pyspark.sql.functions import *\n",
        "df = df.withColumn('MINUSCULAS',lower(col('NOME')))\n",
        "df.show()"
      ],
      "metadata": {
        "colab": {
          "base_uri": "https://localhost:8080/"
        },
        "id": "99ncVP657QgC",
        "outputId": "42695c63-d5f2-4c41-8463-51bdda4bcefa"
      },
      "execution_count": null,
      "outputs": [
        {
          "output_type": "stream",
          "name": "stdout",
          "text": [
            "+---------+--------+---------+------+------+-----+------------+-----------+-----------+------------+----+-----------+------+----------+----------+\n",
            "|MATRÍCULA|    NOME|   CIDADE|ESTADO|  PAÍS|IDADE|DEPARTAMENTO|      CARGO|SALÁRIO(RS)|ESCOLARIDADE|NOTA|PREVIDENCIA| BONUS|MAIUSCULAS|MINUSCULAS|\n",
            "+---------+--------+---------+------+------+-----+------------+-----------+-----------+------------+----+-----------+------+----------+----------+\n",
            "|        1|   Lucas|  Atibaia|    SP|Brasil|   35|     Compras|    Gerente|      25000|    Superior|   8|     2500.0|5000.0|     LUCAS|     lucas|\n",
            "|        2|     Ana|São Paulo|    SP|Brasil|   29|      Vendas|Coordenador|      12000|    Superior|   6|     1200.0|2400.0|       ANA|       ana|\n",
            "|        3|   Luiza|   Santos|    SP|Brasil|   38|    Finanças|    Gerente|      28000|         MBA|   9|     2800.0|5600.0|     LUIZA|     luiza|\n",
            "|        4|Fernando|  Atibaia|    SP|Brasil|   36|   Marketing|    Diretor|      40000|    Mestrado|   7|     4000.0|8000.0|  FERNANDO|  fernando|\n",
            "|        5|  Sandra|  Atibaia|    SP|Brasil|   28|    Produção|   Analista|      23000|    Superior|   5|     2300.0|4600.0|    SANDRA|    sandra|\n",
            "|        6| Douglas| Bragança|    SP|Brasil|   29|    Finanças|   Analista|      11000|    Superior|   9|     1100.0|2200.0|   DOUGLAS|   douglas|\n",
            "|        7| Eduardo|  Extrema|    MG|Brasil|   30|   Marketing|    Gerente|      12000|         MBA|   4|     1200.0|2400.0|   EDUARDO|   eduardo|\n",
            "|        8|   Ester|  Itapeva|    MG|Brasil|   29|     Compras|   Analista|      10000|    Superior|   2|     1000.0|2000.0|     ESTER|     ester|\n",
            "|        9|   Pedro|  Extrema|    MG|Brasil|   30|   Marketing|   Analista|      13000|    Superior|   1|     1300.0|2600.0|     PEDRO|     pedro|\n",
            "|       10|   Maria|  Extrema|    MG|Brasil|   40|    Produção|   Analista|      12000|         MBA|   7|     1200.0|2400.0|     MARIA|     maria|\n",
            "+---------+--------+---------+------+------+-----+------------+-----------+-----------+------------+----+-----------+------+----------+----------+\n",
            "\n"
          ]
        }
      ]
    },
    {
      "cell_type": "code",
      "source": [
        "''' 7 - Crie um novo dataframe  chamado quant apenas com as colunas idade,\n",
        "salário e notas'''\n",
        "\n",
        "quant = df.select('IDADE','SALÁRIO(RS)','NOTA')\n",
        "quant.show()"
      ],
      "metadata": {
        "colab": {
          "base_uri": "https://localhost:8080/"
        },
        "id": "zV6L1qWW88tS",
        "outputId": "f95bed3f-9c8a-4b18-bc13-7c97d5f8b8a0"
      },
      "execution_count": null,
      "outputs": [
        {
          "output_type": "stream",
          "name": "stdout",
          "text": [
            "+-----+-----------+----+\n",
            "|IDADE|SALÁRIO(RS)|NOTA|\n",
            "+-----+-----------+----+\n",
            "|   35|      25000|   8|\n",
            "|   29|      12000|   6|\n",
            "|   38|      28000|   9|\n",
            "|   36|      40000|   7|\n",
            "|   28|      23000|   5|\n",
            "|   29|      11000|   9|\n",
            "|   30|      12000|   4|\n",
            "|   29|      10000|   2|\n",
            "|   30|      13000|   1|\n",
            "|   40|      12000|   7|\n",
            "+-----+-----------+----+\n",
            "\n"
          ]
        }
      ]
    },
    {
      "cell_type": "code",
      "source": [
        "''' 8 - calcule as principais medidas descritivas do df quant (describe) '''\n",
        "\n",
        "quant = df.select('IDADE','SALÁRIO(RS)','NOTA')\n",
        "quant.describe().show()"
      ],
      "metadata": {
        "colab": {
          "base_uri": "https://localhost:8080/"
        },
        "id": "7nc1X07L9sdM",
        "outputId": "6d2c3136-ac92-4fe2-e9d0-f5a46811ecf1"
      },
      "execution_count": null,
      "outputs": [
        {
          "output_type": "stream",
          "name": "stdout",
          "text": [
            "+-------+-----------------+------------------+-----------------+\n",
            "|summary|            IDADE|       SALÁRIO(RS)|             NOTA|\n",
            "+-------+-----------------+------------------+-----------------+\n",
            "|  count|               10|                10|               10|\n",
            "|   mean|             32.4|           18600.0|              5.8|\n",
            "| stddev|4.402019738458447|10002.221975363496|2.780887148615228|\n",
            "|    min|               28|             10000|                1|\n",
            "|    max|               40|             40000|                9|\n",
            "+-------+-----------------+------------------+-----------------+\n",
            "\n"
          ]
        }
      ]
    },
    {
      "cell_type": "code",
      "source": [
        "'''9 - Ordene o df original por notas de forma crescente'''\n",
        "\n",
        "df.orderBy('NOTA')"
      ],
      "metadata": {
        "colab": {
          "base_uri": "https://localhost:8080/",
          "height": 272
        },
        "id": "tyKzb7_a__Su",
        "outputId": "0dcc62e4-dadd-4b9b-921b-c07f72069435"
      },
      "execution_count": null,
      "outputs": [
        {
          "output_type": "execute_result",
          "data": {
            "text/plain": [
              "+---------+--------+---------+------+------+-----+------------+-----------+-----------+------------+----+-----------+------+\n",
              "|MATRÍCULA|    NOME|   CIDADE|ESTADO|  PAÍS|IDADE|DEPARTAMENTO|      CARGO|SALÁRIO(RS)|ESCOLARIDADE|NOTA|PREVIDENCIA| BONUS|\n",
              "+---------+--------+---------+------+------+-----+------------+-----------+-----------+------------+----+-----------+------+\n",
              "|        9|   Pedro|  Extrema|    MG|Brasil|   30|   Marketing|   Analista|      13000|    Superior|   1|     1300.0|2600.0|\n",
              "|        8|   Ester|  Itapeva|    MG|Brasil|   29|     Compras|   Analista|      10000|    Superior|   2|     1000.0|2000.0|\n",
              "|        7| Eduardo|  Extrema|    MG|Brasil|   30|   Marketing|    Gerente|      12000|         MBA|   4|     1200.0|2400.0|\n",
              "|        5|  Sandra|  Atibaia|    SP|Brasil|   28|    Produção|   Analista|      23000|    Superior|   5|     2300.0|4600.0|\n",
              "|        2|     Ana|São Paulo|    SP|Brasil|   29|      Vendas|Coordenador|      12000|    Superior|   6|     1200.0|2400.0|\n",
              "|       10|   Maria|  Extrema|    MG|Brasil|   40|    Produção|   Analista|      12000|         MBA|   7|     1200.0|2400.0|\n",
              "|        4|Fernando|  Atibaia|    SP|Brasil|   36|   Marketing|    Diretor|      40000|    Mestrado|   7|     4000.0|8000.0|\n",
              "|        1|   Lucas|  Atibaia|    SP|Brasil|   35|     Compras|    Gerente|      25000|    Superior|   8|     2500.0|5000.0|\n",
              "|        3|   Luiza|   Santos|    SP|Brasil|   38|    Finanças|    Gerente|      28000|         MBA|   9|     2800.0|5600.0|\n",
              "|        6| Douglas| Bragança|    SP|Brasil|   29|    Finanças|   Analista|      11000|    Superior|   9|     1100.0|2200.0|\n",
              "+---------+--------+---------+------+------+-----+------------+-----------+-----------+------------+----+-----------+------+"
            ],
            "text/html": [
              "<table border='1'>\n",
              "<tr><th>MATRÍCULA</th><th>NOME</th><th>CIDADE</th><th>ESTADO</th><th>PAÍS</th><th>IDADE</th><th>DEPARTAMENTO</th><th>CARGO</th><th>SALÁRIO(RS)</th><th>ESCOLARIDADE</th><th>NOTA</th><th>PREVIDENCIA</th><th>BONUS</th></tr>\n",
              "<tr><td>9</td><td>Pedro</td><td>Extrema</td><td>MG</td><td>Brasil</td><td>30</td><td>Marketing</td><td>Analista</td><td>13000</td><td>Superior</td><td>1</td><td>1300.0</td><td>2600.0</td></tr>\n",
              "<tr><td>8</td><td>Ester</td><td>Itapeva</td><td>MG</td><td>Brasil</td><td>29</td><td>Compras</td><td>Analista</td><td>10000</td><td>Superior</td><td>2</td><td>1000.0</td><td>2000.0</td></tr>\n",
              "<tr><td>7</td><td>Eduardo</td><td>Extrema</td><td>MG</td><td>Brasil</td><td>30</td><td>Marketing</td><td>Gerente</td><td>12000</td><td>MBA</td><td>4</td><td>1200.0</td><td>2400.0</td></tr>\n",
              "<tr><td>5</td><td>Sandra</td><td>Atibaia</td><td>SP</td><td>Brasil</td><td>28</td><td>Produção</td><td>Analista</td><td>23000</td><td>Superior</td><td>5</td><td>2300.0</td><td>4600.0</td></tr>\n",
              "<tr><td>2</td><td>Ana</td><td>São Paulo</td><td>SP</td><td>Brasil</td><td>29</td><td>Vendas</td><td>Coordenador</td><td>12000</td><td>Superior</td><td>6</td><td>1200.0</td><td>2400.0</td></tr>\n",
              "<tr><td>10</td><td>Maria</td><td>Extrema</td><td>MG</td><td>Brasil</td><td>40</td><td>Produção</td><td>Analista</td><td>12000</td><td>MBA</td><td>7</td><td>1200.0</td><td>2400.0</td></tr>\n",
              "<tr><td>4</td><td>Fernando</td><td>Atibaia</td><td>SP</td><td>Brasil</td><td>36</td><td>Marketing</td><td>Diretor</td><td>40000</td><td>Mestrado</td><td>7</td><td>4000.0</td><td>8000.0</td></tr>\n",
              "<tr><td>1</td><td>Lucas</td><td>Atibaia</td><td>SP</td><td>Brasil</td><td>35</td><td>Compras</td><td>Gerente</td><td>25000</td><td>Superior</td><td>8</td><td>2500.0</td><td>5000.0</td></tr>\n",
              "<tr><td>3</td><td>Luiza</td><td>Santos</td><td>SP</td><td>Brasil</td><td>38</td><td>Finanças</td><td>Gerente</td><td>28000</td><td>MBA</td><td>9</td><td>2800.0</td><td>5600.0</td></tr>\n",
              "<tr><td>6</td><td>Douglas</td><td>Bragança</td><td>SP</td><td>Brasil</td><td>29</td><td>Finanças</td><td>Analista</td><td>11000</td><td>Superior</td><td>9</td><td>1100.0</td><td>2200.0</td></tr>\n",
              "</table>\n"
            ]
          },
          "metadata": {},
          "execution_count": 83
        }
      ]
    },
    {
      "cell_type": "code",
      "source": [
        "''' 10 - faça as contagens de frequências, usando groupby para as seguintes colunas:\n",
        "a) Cargo\n",
        "b) Cidade\n",
        "c) Estado\n",
        "d) Escolaridade\n",
        "e) Departamento '''\n",
        "\n",
        "a= df.groupBy('CARGO').agg({'CARGO':'COUNT'})\n",
        "a.show()\n",
        "b= df.groupBy('CIDADE').agg({'CIDADE':'COUNT'})\n",
        "b.show()\n",
        "c= df.groupBy('ESTADO').agg({'ESTADO':'COUNT'})\n",
        "c.show()\n",
        "d= df.groupBy('ESCOLARIDADE').agg({'ESCOLARIDADE':'COUNT'})\n",
        "d.show()\n",
        "e= df.groupBy('DEPARTAMENTO').agg({'DEPARTAMENTO':'COUNT'})\n",
        "e.show()"
      ],
      "metadata": {
        "colab": {
          "base_uri": "https://localhost:8080/"
        },
        "id": "i4pF5yiCAtfG",
        "outputId": "33d830b8-e77f-48bc-e4fa-e4429596dead"
      },
      "execution_count": null,
      "outputs": [
        {
          "output_type": "stream",
          "name": "stdout",
          "text": [
            "+-----------+------------+\n",
            "|      CARGO|count(CARGO)|\n",
            "+-----------+------------+\n",
            "|    Gerente|           3|\n",
            "|Coordenador|           1|\n",
            "|    Diretor|           1|\n",
            "|   Analista|           5|\n",
            "+-----------+------------+\n",
            "\n",
            "+---------+-------------+\n",
            "|   CIDADE|count(CIDADE)|\n",
            "+---------+-------------+\n",
            "|   Santos|            1|\n",
            "|  Extrema|            3|\n",
            "|São Paulo|            1|\n",
            "|  Atibaia|            3|\n",
            "| Bragança|            1|\n",
            "|  Itapeva|            1|\n",
            "+---------+-------------+\n",
            "\n",
            "+------+-------------+\n",
            "|ESTADO|count(ESTADO)|\n",
            "+------+-------------+\n",
            "|    SP|            6|\n",
            "|    MG|            4|\n",
            "+------+-------------+\n",
            "\n",
            "+------------+-------------------+\n",
            "|ESCOLARIDADE|count(ESCOLARIDADE)|\n",
            "+------------+-------------------+\n",
            "|    Superior|                  6|\n",
            "|    Mestrado|                  1|\n",
            "|         MBA|                  3|\n",
            "+------------+-------------------+\n",
            "\n",
            "+------------+-------------------+\n",
            "|DEPARTAMENTO|count(DEPARTAMENTO)|\n",
            "+------------+-------------------+\n",
            "|      Vendas|                  1|\n",
            "|    Finanças|                  2|\n",
            "|   Marketing|                  3|\n",
            "|     Compras|                  2|\n",
            "|    Produção|                  2|\n",
            "+------------+-------------------+\n",
            "\n"
          ]
        }
      ]
    }
  ]
}